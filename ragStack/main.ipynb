{
 "cells": [
  {
   "cell_type": "code",
   "execution_count": 1,
   "metadata": {},
   "outputs": [],
   "source": [
    "import cassio"
   ]
  },
  {
   "cell_type": "code",
   "execution_count": 3,
   "metadata": {},
   "outputs": [],
   "source": [
    "import os\n",
    "from getpass import getpass\n",
    "\n",
    "# Enter your settings for Astra DB and OpenAI:\n",
    "os.environ[\"ASTRA_DB_API_ENDPOINT\"] =\"https://e6debf57-dc97-44b5-b93c-74bfbf0abef9-us-east-2.apps.astra.datastax.com/\"\n",
    "os.environ[\"ASTRA_DB_APPLICATION_TOKEN\"] = \"AstraCS:KBzARFACrAqhapGPnqJykgup:6c4838ecd8f06921c7182c77415d8b88cc3370cf747ff16e776620afa40a0085\"\n",
    "# os.environ[\"OPENAI_API_KEY\"] = getpass(\"Enter your OpenAI API Key: \")"
   ]
  },
  {
   "cell_type": "code",
   "execution_count": 4,
   "metadata": {},
   "outputs": [
    {
     "name": "stdout",
     "output_type": "stream",
     "text": [
      "Astra vector store configured\n"
     ]
    }
   ],
   "source": [
    "from langchain_astradb import AstraDBVectorStore\n",
    "# from langchain.embeddings import OpenAIEmbeddings\n",
    "from langchain_community.embeddings import OllamaEmbeddings\n",
    "import os\n",
    "\n",
    "# Configure your embedding model and vector store\n",
    "embedding = OllamaEmbeddings()\n",
    "vstore = AstraDBVectorStore(\n",
    "    collection_name=\"test\",\n",
    "    embedding=embedding,\n",
    "    token=os.getenv(\"ASTRA_DB_APPLICATION_TOKEN\"),\n",
    "    api_endpoint=os.getenv(\"ASTRA_DB_API_ENDPOINT\"),\n",
    ")\n",
    "print(\"Astra vector store configured\")"
   ]
  },
  {
   "cell_type": "code",
   "execution_count": 5,
   "metadata": {},
   "outputs": [
    {
     "name": "stderr",
     "output_type": "stream",
     "text": [
      "/Users/adityasaikolluru/Desktop/Langchain/venv/lib/python3.9/site-packages/tqdm/auto.py:21: TqdmWarning: IProgress not found. Please update jupyter and ipywidgets. See https://ipywidgets.readthedocs.io/en/stable/user_install.html\n",
      "  from .autonotebook import tqdm as notebook_tqdm\n",
      "Downloading readme: 100%|██████████| 574/574 [00:00<00:00, 1.24MB/s]\n",
      "Downloading data: 100%|██████████| 67.6k/67.6k [00:00<00:00, 402kB/s]\n",
      "Generating train split: 100%|██████████| 450/450 [00:00<00:00, 40588.29 examples/s]"
     ]
    },
    {
     "name": "stdout",
     "output_type": "stream",
     "text": [
      "An example entry:\n",
      "{'author': 'aristotle', 'quote': 'Love well, be loved and do something of value.', 'tags': 'love;ethics'}\n"
     ]
    },
    {
     "name": "stderr",
     "output_type": "stream",
     "text": [
      "\n"
     ]
    }
   ],
   "source": [
    "from datasets import load_dataset\n",
    "\n",
    "# Load a sample dataset\n",
    "philo_dataset = load_dataset(\"datastax/philosopher-quotes\")[\"train\"]\n",
    "print(\"An example entry:\")\n",
    "print(philo_dataset[16])"
   ]
  },
  {
   "cell_type": "code",
   "execution_count": 6,
   "metadata": {},
   "outputs": [],
   "source": [
    "from langchain.schema import Document\n",
    "\n",
    "# Constructs a set of documents from your data. Documents can be used as inputs to your vector store.\n",
    "docs = []\n",
    "for entry in philo_dataset:\n",
    "    metadata = {\"author\": entry[\"author\"]}\n",
    "    if entry[\"tags\"]:\n",
    "        # Add metadata tags to the metadata dictionary\n",
    "        for tag in entry[\"tags\"].split(\";\"):\n",
    "            metadata[tag] = \"y\"\n",
    "    # Create a LangChain document with the quote and metadata tags\n",
    "    doc = Document(page_content=entry[\"quote\"], metadata=metadata)\n",
    "    docs.append(doc)"
   ]
  },
  {
   "cell_type": "code",
   "execution_count": 7,
   "metadata": {},
   "outputs": [
    {
     "name": "stdout",
     "output_type": "stream",
     "text": [
      "\n",
      "Inserted 450 documents.\n"
     ]
    }
   ],
   "source": [
    "# Create embeddings by inserting your documents into the vector store.\n",
    "inserted_ids = vstore.add_documents(docs)\n",
    "print(f\"\\nInserted {len(inserted_ids)} documents.\")"
   ]
  },
  {
   "cell_type": "code",
   "execution_count": 9,
   "metadata": {},
   "outputs": [
    {
     "name": "stdout",
     "output_type": "stream",
     "text": [
      "{'data': {'documents': [{'_id': '282ee618e15d4d57b8ef7646c0fffcd1', 'content': 'The worst of all deceptions is self-deception.', 'metadata': {'author': 'plato'}}, {'_id': 'd9ecd11f1c864f8586fe110b7f29c294', 'content': 'Being is. Being is in-itself. Being is what it is.', 'metadata': {'author': 'sartre', 'history': 'y', 'knowledge': 'y', 'ethics': 'y'}}, {'_id': '976b7f311c4c42488b5c1802fd71d2b9', 'content': 'The most spiritual men, as the strongest, find their happiness where others would find their destruction: in the labyrinth, in hardness against themselves and others, in experiments. Their joy is self-conquest: asceticism becomes in them nature, need, and instinct. Difficult tasks are a privilege to them; to play with burdens that crush others, a recreation. Knowledge-a form of asceticism. They are the most venerable kind of man: that does not preclude their being the most cheerful and the kindliest.', 'metadata': {'author': 'nietzsche', 'knowledge': 'y'}}, {'_id': 'a3ade8a4c2b34f95879f85d53ef77cc5', 'content': 'Reason can never prove the existence of God.', 'metadata': {'author': 'kant', 'religion': 'y'}}, {'_id': '12e29f58182d4ab19f022c36105af9f7', 'content': 'Philosophy is by its nature something esoteric, neither made for the mob nor capable of being prepared for the mob.', 'metadata': {'author': 'hegel'}}, {'_id': '9b7ccb4d8dd047cc9515d13c1436ce59', 'content': 'The meager satisfaction that man can extract from reality leaves him starving.', 'metadata': {'author': 'freud'}}, {'_id': 'a15b42c6139947d8b14d415b2a88857c', 'content': 'Necessity is the constant scourge of the lower classes, ennui of the higher ones.', 'metadata': {'author': 'schopenhauer'}}, {'_id': 'ed08fe3a5e7f4e1e9162c58ca568e36b', 'content': 'Invisible threads are the strongest ties.', 'metadata': {'author': 'nietzsche', 'ethics': 'y'}}, {'_id': 'd47e422accf5418a973e26f7793ee3e6', 'content': 'There is always some madness in love. But there is also always some reason in madness.', 'metadata': {'author': 'nietzsche', 'love': 'y'}}, {'_id': '250b29242d584d87928d0356f05ae223', 'content': 'Before the end of Time will be the end of History. Before the end of History will be the end of Art.', 'metadata': {'author': 'hegel', 'history': 'y'}}, {'_id': 'daa01f148d114cba80599fdb55f6229b', 'content': 'All wars are fought for the sake of getting money.', 'metadata': {'author': 'plato'}}, {'_id': '15828b36fc364b52beefc9d1a4dfc4c6', 'content': 'Fear? If I have gained anything by damning myself, it is that I no longer have anything to fear.', 'metadata': {'author': 'sartre', 'knowledge': 'y', 'ethics': 'y'}}, {'_id': 'a044742d72dd4054ae775eafdfcc8b33', 'content': 'Enthusiasm is always connected with the senses, whatever be the object that excites it. The true strength of virtue is serenity of mind, combined with a deliberate and steadfast determination to execute her laws. That is the healthful condition of the moral life; on the other hand, enthusiasm, even when excited by representations of goodness, is a brilliant but feverish glow which leaves only exhaustion and languor behind.', 'metadata': {'author': 'kant', 'ethics': 'y'}}, {'_id': '34b2c0845fbc40199b41423c3b262772', 'content': 'I found the human heart empty and insipid everywhere except in books.', 'metadata': {'author': 'sartre', 'knowledge': 'y'}}, {'_id': '5755a1cd3444452d8492d51ee7738def', 'content': 'In the mind there is no absolute or free will.', 'metadata': {'author': 'spinoza'}}, {'_id': '3e843821f6ac4b738cdaffe0631b4ad0', 'content': 'Truth that is naked is the most beautiful, and the simpler its expression the deeper is the impression it makes.', 'metadata': {'author': 'schopenhauer', 'ethics': 'y', 'education': 'y'}}, {'_id': 'c7c17e8763da41d594cc27a26a96dcce', 'content': 'Thoughts without content are empty, intuitions without concepts are blind.', 'metadata': {'author': 'kant'}}, {'_id': '7f451f43794246cdbf152618eabcfb40', 'content': 'To learn to see- to accustom the eye to calmness, to patience, and to allow things to come up to it; to defer judgment, and to acquire the habit of approaching and grasping an individual case from all sides. This is the first preparatory schooling of intellectuality. One must not respond immediately to a stimulus; one must acquire a command of the obstructing and isolating instincts.', 'metadata': {'author': 'nietzsche', 'education': 'y', 'knowledge': 'y'}}, {'_id': 'b8327604f2844284b437fe8295149f35', 'content': 'It is not attention that the child is seeking, but love.', 'metadata': {'author': 'freud', 'love': 'y'}}, {'_id': '679d35ff328640c483eb24d0e781b0d7', 'content': 'It is because the method of physics does not satisfy the comprehension that we have to go on further.', 'metadata': {'author': 'hegel'}}], 'nextPageState': 'KQAAAAEBAAAAIDY3OWQzNWZmMzI4NjQwYzQ4M2ViMjRkMGU3ODFiMGQ3APB////rAA=='}}\n"
     ]
    }
   ],
   "source": [
    "# Checks your collection to verify the documents are embedded.\n",
    "print(vstore.astra_db.collection(\"test\").find())"
   ]
  },
  {
   "cell_type": "code",
   "execution_count": null,
   "metadata": {},
   "outputs": [],
   "source": [
    "# Basic Retrieval\n",
    "# Retrieve context from your vector database, and pass it to the model with a prompt.m\\"
   ]
  },
  {
   "cell_type": "code",
   "execution_count": 10,
   "metadata": {},
   "outputs": [
    {
     "data": {
      "text/plain": [
       "'The provided text does not contain any information regarding the importance of allowing the brain or any specific tags, so I am unable to answer this question from the given context.'"
      ]
     },
     "execution_count": 10,
     "metadata": {},
     "output_type": "execute_result"
    }
   ],
   "source": [
    "from langchain.prompts import ChatPromptTemplate\n",
    "from langchain.chat_models import ChatOpenAI\n",
    "from langchain.schema.output_parser import StrOutputParser\n",
    "from langchain.schema.runnable import RunnablePassthrough\n",
    "from langchain_community.llms import Ollama\n",
    "\n",
    "retriever = vstore.as_retriever(search_kwargs={\"k\": 3})\n",
    "\n",
    "prompt_template = \"\"\"\n",
    "Answer the question based only on the supplied context. If you don't know the answer, say you don't know the answer.\n",
    "Context: {context}\n",
    "Question: {question}\n",
    "Your answer:\n",
    "\"\"\"\n",
    "prompt = ChatPromptTemplate.from_template(prompt_template)\n",
    "model = Ollama(model=\"gemma\")\n",
    "\n",
    "chain = (\n",
    "    {\"context\": retriever, \"question\": RunnablePassthrough()}\n",
    "    | prompt\n",
    "    | model\n",
    "    | StrOutputParser()\n",
    ")\n",
    "\n",
    "chain.invoke(\"In the given context, what is the most important to allow the brain and provide me the tags?\")"
   ]
  },
  {
   "cell_type": "code",
   "execution_count": 11,
   "metadata": {},
   "outputs": [],
   "source": [
    "# WARNING: This will delete the collection and all documents in the collection\n",
    "vstore.delete_collection()"
   ]
  },
  {
   "cell_type": "code",
   "execution_count": null,
   "metadata": {},
   "outputs": [],
   "source": []
  },
  {
   "cell_type": "code",
   "execution_count": null,
   "metadata": {},
   "outputs": [],
   "source": []
  },
  {
   "cell_type": "code",
   "execution_count": null,
   "metadata": {},
   "outputs": [],
   "source": []
  },
  {
   "cell_type": "code",
   "execution_count": null,
   "metadata": {},
   "outputs": [],
   "source": []
  }
 ],
 "metadata": {
  "kernelspec": {
   "display_name": "venv",
   "language": "python",
   "name": "python3"
  },
  "language_info": {
   "codemirror_mode": {
    "name": "ipython",
    "version": 3
   },
   "file_extension": ".py",
   "mimetype": "text/x-python",
   "name": "python",
   "nbconvert_exporter": "python",
   "pygments_lexer": "ipython3",
   "version": "3.9.6"
  }
 },
 "nbformat": 4,
 "nbformat_minor": 2
}
